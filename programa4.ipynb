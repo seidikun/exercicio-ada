{
  "nbformat": 4,
  "nbformat_minor": 0,
  "metadata": {
    "colab": {
      "provenance": [],
      "authorship_tag": "ABX9TyPjgMYFDwmddSxmNEVM1Afz",
      "include_colab_link": true
    },
    "kernelspec": {
      "name": "python3",
      "display_name": "Python 3"
    },
    "language_info": {
      "name": "python"
    }
  },
  "cells": [
    {
      "cell_type": "markdown",
      "metadata": {
        "id": "view-in-github",
        "colab_type": "text"
      },
      "source": [
        "<a href=\"https://colab.research.google.com/github/seidikun/exercicio-ada/blob/main/programa4.ipynb\" target=\"_parent\"><img src=\"https://colab.research.google.com/assets/colab-badge.svg\" alt=\"Open In Colab\"/></a>"
      ]
    },
    {
      "cell_type": "markdown",
      "source": [
        "# O fim\n",
        "\n",
        "\n",
        "\n"
      ],
      "metadata": {
        "id": "VFwBa9vQOYly"
      }
    },
    {
      "cell_type": "markdown",
      "source": [
        "Duas personagens misteriosas se depararam com uma situação absurda. Conte como elas lidaram com essa situação. Você não precisa saber o que aconteceu, use sua imaginação para descrever a solução dessa situação.\n",
        "\n",
        "Sua função vai receber uma lista e adicionar uma string (um texto) a ela, e retornar essa lista\n",
        "\n",
        "A string conta o a resolução do problema"
      ],
      "metadata": {
        "id": "OtJE-pT2OwSA"
      }
    },
    {
      "cell_type": "code",
      "execution_count": null,
      "metadata": {
        "id": "_GN59tsNNpRw",
        "colab": {
          "base_uri": "https://localhost:8080/",
          "height": 135
        },
        "outputId": "ffc6c146-d39d-48f7-b5eb-edb54d27c468"
      },
      "outputs": [
        {
          "output_type": "error",
          "ename": "IndentationError",
          "evalue": "ignored",
          "traceback": [
            "\u001b[0;36m  File \u001b[0;32m\"<ipython-input-1-7d6375b53415>\"\u001b[0;36m, line \u001b[0;32m2\u001b[0m\n\u001b[0;31m    # Seu código aqui\u001b[0m\n\u001b[0m                     ^\u001b[0m\n\u001b[0;31mIndentationError\u001b[0m\u001b[0;31m:\u001b[0m expected an indented block\n"
          ]
        }
      ],
      "source": [
        "def function4(): # Não mude essa linha\n",
        "  # Seu código aqui"
      ]
    },
    {
      "cell_type": "markdown",
      "source": [
        "Quando estiver pronta, copie e cole a definição da função no arquivo programa4.py"
      ],
      "metadata": {
        "id": "Yk6zUgRTO_Xo"
      }
    },
    {
      "cell_type": "markdown",
      "source": [
        "# Se quiser, teste a função abaixo:"
      ],
      "metadata": {
        "id": "UlfuIcQKPP8Q"
      }
    },
    {
      "cell_type": "code",
      "source": [
        "texto = ['bla bla bla']\n",
        "function4(texto)"
      ],
      "metadata": {
        "id": "OY2L90bePG36",
        "colab": {
          "base_uri": "https://localhost:8080/",
          "height": 190
        },
        "outputId": "81ccbbd8-bdb8-421e-c959-aa2386e4dfca"
      },
      "execution_count": null,
      "outputs": [
        {
          "output_type": "error",
          "ename": "NameError",
          "evalue": "ignored",
          "traceback": [
            "\u001b[0;31m---------------------------------------------------------------------------\u001b[0m",
            "\u001b[0;31mNameError\u001b[0m                                 Traceback (most recent call last)",
            "\u001b[0;32m<ipython-input-2-ce94f5492434>\u001b[0m in \u001b[0;36m<cell line: 2>\u001b[0;34m()\u001b[0m\n\u001b[1;32m      1\u001b[0m \u001b[0mtexto\u001b[0m \u001b[0;34m=\u001b[0m \u001b[0;34m[\u001b[0m\u001b[0;34m'bla bla bla'\u001b[0m\u001b[0;34m]\u001b[0m\u001b[0;34m\u001b[0m\u001b[0;34m\u001b[0m\u001b[0m\n\u001b[0;32m----> 2\u001b[0;31m \u001b[0mfunction3\u001b[0m\u001b[0;34m(\u001b[0m\u001b[0mtexto\u001b[0m\u001b[0;34m)\u001b[0m\u001b[0;34m\u001b[0m\u001b[0;34m\u001b[0m\u001b[0m\n\u001b[0m",
            "\u001b[0;31mNameError\u001b[0m: name 'function3' is not defined"
          ]
        }
      ]
    },
    {
      "cell_type": "code",
      "source": [],
      "metadata": {
        "id": "lFS2AeCQPTKK"
      },
      "execution_count": null,
      "outputs": []
    }
  ]
}