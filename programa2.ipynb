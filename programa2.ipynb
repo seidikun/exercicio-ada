{
  "nbformat": 4,
  "nbformat_minor": 0,
  "metadata": {
    "colab": {
      "provenance": [],
      "authorship_tag": "ABX9TyPYRsKtglA0AQt3UwFqcCBQ",
      "include_colab_link": true
    },
    "kernelspec": {
      "name": "python3",
      "display_name": "Python 3"
    },
    "language_info": {
      "name": "python"
    }
  },
  "cells": [
    {
      "cell_type": "markdown",
      "metadata": {
        "id": "view-in-github",
        "colab_type": "text"
      },
      "source": [
        "<a href=\"https://colab.research.google.com/github/seidikun/exercicio-ada/blob/main/programa2.ipynb\" target=\"_parent\"><img src=\"https://colab.research.google.com/assets/colab-badge.svg\" alt=\"Open In Colab\"/></a>"
      ]
    },
    {
      "cell_type": "markdown",
      "source": [
        "# Duas personagens misteriosas vão a ___ (complete aqui)\n"
      ],
      "metadata": {
        "id": "VFwBa9vQOYly"
      }
    },
    {
      "cell_type": "markdown",
      "source": [
        "Escreva uma função que descreva um lugar absurdo em que duas personagens se encontram. Você não precisa dizer quam são elas, só descrever esse lugar absurdo (você pode usar 'elas', para se referiar as personagens, se quiser)\n",
        "\n",
        "Sua função vai receber uma lista e adicionar uma string (um texto) a ela, e retornar essa lista"
      ],
      "metadata": {
        "id": "OtJE-pT2OwSA"
      }
    },
    {
      "cell_type": "code",
      "execution_count": null,
      "metadata": {
        "id": "_GN59tsNNpRw"
      },
      "outputs": [],
      "source": [
        "def function2(): # Não mude essa linha\n",
        "  # Seu código aqui"
      ]
    },
    {
      "cell_type": "markdown",
      "source": [
        "Quando estiver pronta, copie e cole a definição da função no arquivo programa2.py"
      ],
      "metadata": {
        "id": "Yk6zUgRTO_Xo"
      }
    },
    {
      "cell_type": "markdown",
      "source": [
        "# Se quiser, teste a função abaixo:"
      ],
      "metadata": {
        "id": "UlfuIcQKPP8Q"
      }
    },
    {
      "cell_type": "code",
      "source": [
        "texto = ['bla bla bla']\n",
        "function2(texto)"
      ],
      "metadata": {
        "id": "OY2L90bePG36"
      },
      "execution_count": null,
      "outputs": []
    },
    {
      "cell_type": "code",
      "source": [],
      "metadata": {
        "id": "lFS2AeCQPTKK"
      },
      "execution_count": null,
      "outputs": []
    }
  ]
}