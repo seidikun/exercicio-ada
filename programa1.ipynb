{
  "nbformat": 4,
  "nbformat_minor": 0,
  "metadata": {
    "colab": {
      "provenance": [],
      "authorship_tag": "ABX9TyOBjfUQjiTqGLP9RZ8TsQqo",
      "include_colab_link": true
    },
    "kernelspec": {
      "name": "python3",
      "display_name": "Python 3"
    },
    "language_info": {
      "name": "python"
    }
  },
  "cells": [
    {
      "cell_type": "markdown",
      "metadata": {
        "id": "view-in-github",
        "colab_type": "text"
      },
      "source": [
        "<a href=\"https://colab.research.google.com/github/seidikun/exercicio-ada/blob/main/programa1.ipynb\" target=\"_parent\"><img src=\"https://colab.research.google.com/assets/colab-badge.svg\" alt=\"Open In Colab\"/></a>"
      ]
    },
    {
      "cell_type": "markdown",
      "source": [
        "# A grande história de _ e _ (bote os nomes aqui)"
      ],
      "metadata": {
        "id": "VFwBa9vQOYly"
      }
    },
    {
      "cell_type": "markdown",
      "source": [
        "Escreva uma função que apresente duas personagens. Diga quais as características delas.\n",
        "\n",
        "Sua função vai criar uma lista vazia e preencher ela com uma string (um texto), e retornar essa lista"
      ],
      "metadata": {
        "id": "OtJE-pT2OwSA"
      }
    },
    {
      "cell_type": "code",
      "execution_count": null,
      "metadata": {
        "id": "_GN59tsNNpRw"
      },
      "outputs": [],
      "source": [
        "def function1(): # Não mude essa linha\n",
        "  # Seu código aqui"
      ]
    },
    {
      "cell_type": "markdown",
      "source": [
        "Quando estiver pronta, copie e cole a definição da função no arquivo programa1.py"
      ],
      "metadata": {
        "id": "Yk6zUgRTO_Xo"
      }
    },
    {
      "cell_type": "markdown",
      "source": [
        "# Se quiser, teste a função abaixo:"
      ],
      "metadata": {
        "id": "UlfuIcQKPP8Q"
      }
    },
    {
      "cell_type": "code",
      "source": [
        "function1()"
      ],
      "metadata": {
        "id": "OY2L90bePG36"
      },
      "execution_count": null,
      "outputs": []
    },
    {
      "cell_type": "code",
      "source": [],
      "metadata": {
        "id": "lFS2AeCQPTKK"
      },
      "execution_count": null,
      "outputs": []
    }
  ]
}