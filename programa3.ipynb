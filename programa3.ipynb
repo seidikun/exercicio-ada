{
  "nbformat": 4,
  "nbformat_minor": 0,
  "metadata": {
    "colab": {
      "provenance": [],
      "authorship_tag": "ABX9TyMEFWKCDjce3FJqjYjMvMYK",
      "include_colab_link": true
    },
    "kernelspec": {
      "name": "python3",
      "display_name": "Python 3"
    },
    "language_info": {
      "name": "python"
    }
  },
  "cells": [
    {
      "cell_type": "markdown",
      "metadata": {
        "id": "view-in-github",
        "colab_type": "text"
      },
      "source": [
        "<a href=\"https://colab.research.google.com/github/seidikun/exercicio-ada/blob/main/programa3.ipynb\" target=\"_parent\"><img src=\"https://colab.research.google.com/assets/colab-badge.svg\" alt=\"Open In Colab\"/></a>"
      ]
    },
    {
      "cell_type": "markdown",
      "source": [
        "# Duas personagens misteriosas encontram um problema"
      ],
      "metadata": {
        "id": "VFwBa9vQOYly"
      }
    },
    {
      "cell_type": "markdown",
      "source": [
        "Duas personagens misteriosas estão em um lugar absurdo. Elas se deparam com uma situação aterradora! O que acontece com elas?\n",
        "\n",
        "Sua função vai receber uma lista e adicionar uma string (um texto) a ela, e retornar essa lista\n",
        "\n",
        "A string conta o que acontece com essas personagens"
      ],
      "metadata": {
        "id": "OtJE-pT2OwSA"
      }
    },
    {
      "cell_type": "code",
      "execution_count": null,
      "metadata": {
        "id": "_GN59tsNNpRw"
      },
      "outputs": [],
      "source": [
        "def function3(): # Não mude essa linha\n",
        "  # Seu código aqui"
      ]
    },
    {
      "cell_type": "markdown",
      "source": [
        "Quando estiver pronta, copie e cole a definição da função no arquivo programa3.py"
      ],
      "metadata": {
        "id": "Yk6zUgRTO_Xo"
      }
    },
    {
      "cell_type": "markdown",
      "source": [
        "# Se quiser, teste a função abaixo:"
      ],
      "metadata": {
        "id": "UlfuIcQKPP8Q"
      }
    },
    {
      "cell_type": "code",
      "source": [
        "texto = ['bla bla bla']\n",
        "function3(texto)"
      ],
      "metadata": {
        "id": "OY2L90bePG36"
      },
      "execution_count": null,
      "outputs": []
    },
    {
      "cell_type": "code",
      "source": [],
      "metadata": {
        "id": "lFS2AeCQPTKK"
      },
      "execution_count": null,
      "outputs": []
    }
  ]
}